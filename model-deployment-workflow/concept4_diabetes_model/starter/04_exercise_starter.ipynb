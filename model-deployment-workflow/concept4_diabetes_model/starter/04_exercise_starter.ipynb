{
 "cells": [
  {
   "cell_type": "markdown",
   "id": "7e758560-c967-4f2f-88ee-664cba57b9b7",
   "metadata": {},
   "source": [
    "# Exercise: Diabetes Model\n",
    "\n",
    "In this exercise, we're going to take the knowledge we gained from the lesson and apply it to the [Diabetes dataset](https://scikit-learn.org/stable/datasets/toy_dataset.html#diabetes-dataset). This well known dataset already has it's data cleaned and normalized, so no need to do any of those steps. The steps required to complete this exercise are as follows:\n",
    "\n",
    "1. Load the diabetes dataset into a dataframe.\n",
    "2. Check the table summary to show that indeed the mean is zero for all features.\n",
    "3. Split the dataset into train, validation, and test sets\n",
    "4. Use a linear regression `Ridge` model to fit and score:\n",
    "    1. Fit and score on the whole dataset\n",
    "    2. Fit on train, score on validation, using default model\n",
    "    3. Fit on train, score on validation, using hyperparameters model\n",
    "    4. Fit on train, score on test, using hyperparameterized model\n",
    "5. Plot all scores in a bar graph"
   ]
  },
  {
   "cell_type": "code",
   "execution_count": 1,
   "id": "55cae662-ce37-4184-b53a-3e8ee2482eb9",
   "metadata": {},
   "outputs": [],
   "source": [
    "import numpy as np\n",
    "import pandas as pd\n",
    "from sklearn import datasets\n",
    "from sklearn.model_selection import train_test_split\n",
    "from sklearn.linear_model import Ridge"
   ]
  },
  {
   "cell_type": "code",
   "execution_count": 2,
   "id": "c1c432df-e9bc-4cbe-a5fb-2b8255033151",
   "metadata": {},
   "outputs": [],
   "source": [
    "# Load in the diabetes dataset\n",
    "diabetes = datasets.load_diabetes()"
   ]
  },
  {
   "cell_type": "code",
   "execution_count": 3,
   "id": "c54e0b3c-cf2c-41a0-a514-2d9726f95de4",
   "metadata": {},
   "outputs": [
    {
     "data": {
      "text/plain": [
       "dict_keys(['data', 'target', 'frame', 'DESCR', 'feature_names', 'data_filename', 'target_filename', 'data_module'])"
      ]
     },
     "execution_count": 3,
     "metadata": {},
     "output_type": "execute_result"
    }
   ],
   "source": [
    "diabetes.keys()"
   ]
  },
  {
   "cell_type": "code",
   "execution_count": 4,
   "id": "b00f5730-4124-4c04-b430-fbb465dc83f0",
   "metadata": {},
   "outputs": [],
   "source": [
    "# Create the diabetes `data` dataset as a dataframe and name the columns with `feature_names`\n",
    "df = pd.DataFrame(diabetes.data, columns=diabetes.feature_names)\n",
    "\n",
    "# Include the target as well\n",
    "df['target'] = diabetes.target"
   ]
  },
  {
   "cell_type": "code",
   "execution_count": 7,
   "id": "90210c65-c009-44a2-a4b7-0928e5e81510",
   "metadata": {},
   "outputs": [
    {
     "data": {
      "text/html": [
       "<div>\n",
       "<style scoped>\n",
       "    .dataframe tbody tr th:only-of-type {\n",
       "        vertical-align: middle;\n",
       "    }\n",
       "\n",
       "    .dataframe tbody tr th {\n",
       "        vertical-align: top;\n",
       "    }\n",
       "\n",
       "    .dataframe thead th {\n",
       "        text-align: right;\n",
       "    }\n",
       "</style>\n",
       "<table border=\"1\" class=\"dataframe\">\n",
       "  <thead>\n",
       "    <tr style=\"text-align: right;\">\n",
       "      <th></th>\n",
       "      <th>age</th>\n",
       "      <th>sex</th>\n",
       "      <th>bmi</th>\n",
       "      <th>bp</th>\n",
       "      <th>s1</th>\n",
       "      <th>s2</th>\n",
       "      <th>s3</th>\n",
       "      <th>s4</th>\n",
       "      <th>s5</th>\n",
       "      <th>s6</th>\n",
       "      <th>target</th>\n",
       "    </tr>\n",
       "  </thead>\n",
       "  <tbody>\n",
       "    <tr>\n",
       "      <th>0</th>\n",
       "      <td>0.038076</td>\n",
       "      <td>0.050680</td>\n",
       "      <td>0.061696</td>\n",
       "      <td>0.021872</td>\n",
       "      <td>-0.044223</td>\n",
       "      <td>-0.034821</td>\n",
       "      <td>-0.043401</td>\n",
       "      <td>-0.002592</td>\n",
       "      <td>0.019907</td>\n",
       "      <td>-0.017646</td>\n",
       "      <td>151.0</td>\n",
       "    </tr>\n",
       "    <tr>\n",
       "      <th>1</th>\n",
       "      <td>-0.001882</td>\n",
       "      <td>-0.044642</td>\n",
       "      <td>-0.051474</td>\n",
       "      <td>-0.026328</td>\n",
       "      <td>-0.008449</td>\n",
       "      <td>-0.019163</td>\n",
       "      <td>0.074412</td>\n",
       "      <td>-0.039493</td>\n",
       "      <td>-0.068332</td>\n",
       "      <td>-0.092204</td>\n",
       "      <td>75.0</td>\n",
       "    </tr>\n",
       "    <tr>\n",
       "      <th>2</th>\n",
       "      <td>0.085299</td>\n",
       "      <td>0.050680</td>\n",
       "      <td>0.044451</td>\n",
       "      <td>-0.005670</td>\n",
       "      <td>-0.045599</td>\n",
       "      <td>-0.034194</td>\n",
       "      <td>-0.032356</td>\n",
       "      <td>-0.002592</td>\n",
       "      <td>0.002861</td>\n",
       "      <td>-0.025930</td>\n",
       "      <td>141.0</td>\n",
       "    </tr>\n",
       "    <tr>\n",
       "      <th>3</th>\n",
       "      <td>-0.089063</td>\n",
       "      <td>-0.044642</td>\n",
       "      <td>-0.011595</td>\n",
       "      <td>-0.036656</td>\n",
       "      <td>0.012191</td>\n",
       "      <td>0.024991</td>\n",
       "      <td>-0.036038</td>\n",
       "      <td>0.034309</td>\n",
       "      <td>0.022688</td>\n",
       "      <td>-0.009362</td>\n",
       "      <td>206.0</td>\n",
       "    </tr>\n",
       "    <tr>\n",
       "      <th>4</th>\n",
       "      <td>0.005383</td>\n",
       "      <td>-0.044642</td>\n",
       "      <td>-0.036385</td>\n",
       "      <td>0.021872</td>\n",
       "      <td>0.003935</td>\n",
       "      <td>0.015596</td>\n",
       "      <td>0.008142</td>\n",
       "      <td>-0.002592</td>\n",
       "      <td>-0.031988</td>\n",
       "      <td>-0.046641</td>\n",
       "      <td>135.0</td>\n",
       "    </tr>\n",
       "  </tbody>\n",
       "</table>\n",
       "</div>"
      ],
      "text/plain": [
       "        age       sex       bmi        bp        s1        s2        s3  \\\n",
       "0  0.038076  0.050680  0.061696  0.021872 -0.044223 -0.034821 -0.043401   \n",
       "1 -0.001882 -0.044642 -0.051474 -0.026328 -0.008449 -0.019163  0.074412   \n",
       "2  0.085299  0.050680  0.044451 -0.005670 -0.045599 -0.034194 -0.032356   \n",
       "3 -0.089063 -0.044642 -0.011595 -0.036656  0.012191  0.024991 -0.036038   \n",
       "4  0.005383 -0.044642 -0.036385  0.021872  0.003935  0.015596  0.008142   \n",
       "\n",
       "         s4        s5        s6  target  \n",
       "0 -0.002592  0.019907 -0.017646   151.0  \n",
       "1 -0.039493 -0.068332 -0.092204    75.0  \n",
       "2 -0.002592  0.002861 -0.025930   141.0  \n",
       "3  0.034309  0.022688 -0.009362   206.0  \n",
       "4 -0.002592 -0.031988 -0.046641   135.0  "
      ]
     },
     "execution_count": 7,
     "metadata": {},
     "output_type": "execute_result"
    }
   ],
   "source": [
    "df.head()"
   ]
  },
  {
   "cell_type": "code",
   "execution_count": 24,
   "id": "42aea01b-ef1d-4577-a99b-d916ffa54ecf",
   "metadata": {},
   "outputs": [
    {
     "data": {
      "text/html": [
       "<div>\n",
       "<style scoped>\n",
       "    .dataframe tbody tr th:only-of-type {\n",
       "        vertical-align: middle;\n",
       "    }\n",
       "\n",
       "    .dataframe tbody tr th {\n",
       "        vertical-align: top;\n",
       "    }\n",
       "\n",
       "    .dataframe thead th {\n",
       "        text-align: right;\n",
       "    }\n",
       "</style>\n",
       "<table border=\"1\" class=\"dataframe\">\n",
       "  <thead>\n",
       "    <tr style=\"text-align: right;\">\n",
       "      <th></th>\n",
       "      <th>age</th>\n",
       "      <th>sex</th>\n",
       "      <th>bmi</th>\n",
       "      <th>bp</th>\n",
       "      <th>s1</th>\n",
       "      <th>s2</th>\n",
       "      <th>s3</th>\n",
       "      <th>s4</th>\n",
       "      <th>s5</th>\n",
       "      <th>s6</th>\n",
       "      <th>target</th>\n",
       "    </tr>\n",
       "  </thead>\n",
       "  <tbody>\n",
       "    <tr>\n",
       "      <th>count</th>\n",
       "      <td>442.000000</td>\n",
       "      <td>442.000000</td>\n",
       "      <td>442.000000</td>\n",
       "      <td>442.000000</td>\n",
       "      <td>442.000000</td>\n",
       "      <td>442.000000</td>\n",
       "      <td>442.000000</td>\n",
       "      <td>442.000000</td>\n",
       "      <td>442.000000</td>\n",
       "      <td>442.000000</td>\n",
       "      <td>442.000000</td>\n",
       "    </tr>\n",
       "    <tr>\n",
       "      <th>mean</th>\n",
       "      <td>-0.000000</td>\n",
       "      <td>0.000000</td>\n",
       "      <td>-0.000000</td>\n",
       "      <td>-0.000000</td>\n",
       "      <td>-0.000000</td>\n",
       "      <td>0.000000</td>\n",
       "      <td>-0.000000</td>\n",
       "      <td>-0.000000</td>\n",
       "      <td>0.000000</td>\n",
       "      <td>0.000000</td>\n",
       "      <td>152.133484</td>\n",
       "    </tr>\n",
       "    <tr>\n",
       "      <th>std</th>\n",
       "      <td>0.047619</td>\n",
       "      <td>0.047619</td>\n",
       "      <td>0.047619</td>\n",
       "      <td>0.047619</td>\n",
       "      <td>0.047619</td>\n",
       "      <td>0.047619</td>\n",
       "      <td>0.047619</td>\n",
       "      <td>0.047619</td>\n",
       "      <td>0.047619</td>\n",
       "      <td>0.047619</td>\n",
       "      <td>77.093005</td>\n",
       "    </tr>\n",
       "    <tr>\n",
       "      <th>min</th>\n",
       "      <td>-0.107226</td>\n",
       "      <td>-0.044642</td>\n",
       "      <td>-0.090275</td>\n",
       "      <td>-0.112399</td>\n",
       "      <td>-0.126781</td>\n",
       "      <td>-0.115613</td>\n",
       "      <td>-0.102307</td>\n",
       "      <td>-0.076395</td>\n",
       "      <td>-0.126097</td>\n",
       "      <td>-0.137767</td>\n",
       "      <td>25.000000</td>\n",
       "    </tr>\n",
       "    <tr>\n",
       "      <th>25%</th>\n",
       "      <td>-0.037299</td>\n",
       "      <td>-0.044642</td>\n",
       "      <td>-0.034229</td>\n",
       "      <td>-0.036656</td>\n",
       "      <td>-0.034248</td>\n",
       "      <td>-0.030358</td>\n",
       "      <td>-0.035117</td>\n",
       "      <td>-0.039493</td>\n",
       "      <td>-0.033246</td>\n",
       "      <td>-0.033179</td>\n",
       "      <td>87.000000</td>\n",
       "    </tr>\n",
       "    <tr>\n",
       "      <th>50%</th>\n",
       "      <td>0.005383</td>\n",
       "      <td>-0.044642</td>\n",
       "      <td>-0.007284</td>\n",
       "      <td>-0.005670</td>\n",
       "      <td>-0.004321</td>\n",
       "      <td>-0.003819</td>\n",
       "      <td>-0.006584</td>\n",
       "      <td>-0.002592</td>\n",
       "      <td>-0.001947</td>\n",
       "      <td>-0.001078</td>\n",
       "      <td>140.500000</td>\n",
       "    </tr>\n",
       "    <tr>\n",
       "      <th>75%</th>\n",
       "      <td>0.038076</td>\n",
       "      <td>0.050680</td>\n",
       "      <td>0.031248</td>\n",
       "      <td>0.035644</td>\n",
       "      <td>0.028358</td>\n",
       "      <td>0.029844</td>\n",
       "      <td>0.029312</td>\n",
       "      <td>0.034309</td>\n",
       "      <td>0.032432</td>\n",
       "      <td>0.027917</td>\n",
       "      <td>211.500000</td>\n",
       "    </tr>\n",
       "    <tr>\n",
       "      <th>max</th>\n",
       "      <td>0.110727</td>\n",
       "      <td>0.050680</td>\n",
       "      <td>0.170555</td>\n",
       "      <td>0.132044</td>\n",
       "      <td>0.153914</td>\n",
       "      <td>0.198788</td>\n",
       "      <td>0.181179</td>\n",
       "      <td>0.185234</td>\n",
       "      <td>0.133597</td>\n",
       "      <td>0.135612</td>\n",
       "      <td>346.000000</td>\n",
       "    </tr>\n",
       "  </tbody>\n",
       "</table>\n",
       "</div>"
      ],
      "text/plain": [
       "              age         sex         bmi          bp          s1          s2  \\\n",
       "count  442.000000  442.000000  442.000000  442.000000  442.000000  442.000000   \n",
       "mean    -0.000000    0.000000   -0.000000   -0.000000   -0.000000    0.000000   \n",
       "std      0.047619    0.047619    0.047619    0.047619    0.047619    0.047619   \n",
       "min     -0.107226   -0.044642   -0.090275   -0.112399   -0.126781   -0.115613   \n",
       "25%     -0.037299   -0.044642   -0.034229   -0.036656   -0.034248   -0.030358   \n",
       "50%      0.005383   -0.044642   -0.007284   -0.005670   -0.004321   -0.003819   \n",
       "75%      0.038076    0.050680    0.031248    0.035644    0.028358    0.029844   \n",
       "max      0.110727    0.050680    0.170555    0.132044    0.153914    0.198788   \n",
       "\n",
       "               s3          s4          s5          s6      target  \n",
       "count  442.000000  442.000000  442.000000  442.000000  442.000000  \n",
       "mean    -0.000000   -0.000000    0.000000    0.000000  152.133484  \n",
       "std      0.047619    0.047619    0.047619    0.047619   77.093005  \n",
       "min     -0.102307   -0.076395   -0.126097   -0.137767   25.000000  \n",
       "25%     -0.035117   -0.039493   -0.033246   -0.033179   87.000000  \n",
       "50%     -0.006584   -0.002592   -0.001947   -0.001078  140.500000  \n",
       "75%      0.029312    0.034309    0.032432    0.027917  211.500000  \n",
       "max      0.181179    0.185234    0.133597    0.135612  346.000000  "
      ]
     },
     "execution_count": 24,
     "metadata": {},
     "output_type": "execute_result"
    }
   ],
   "source": [
    "# Describe df using table summary.\n",
    "# No need to normalize, near zero mean.\n",
    "df.describe().round(10)"
   ]
  },
  {
   "cell_type": "code",
   "execution_count": 25,
   "id": "2f5383b7-5228-4ae5-8d1f-4660b1ede157",
   "metadata": {},
   "outputs": [],
   "source": [
    "# train: 0.8 | test: 0.2\n",
    "df_train, df_test = train_test_split(df, test_size=.2, random_state=42)\n",
    "\n",
    "# train: 0.6 | validation: 0.2\n",
    "df_train, df_val = train_test_split(df_train, test_size=.25, random_state=42)\n",
    "\n",
    "# Final dataset sizes: train: 0.6, validation: 0.2, text: 0.2"
   ]
  },
  {
   "cell_type": "code",
   "execution_count": 26,
   "id": "d5d7dc72-5407-46bf-b04d-ec0dcc362f47",
   "metadata": {},
   "outputs": [
    {
     "data": {
      "text/plain": [
       "0.4055583268258721"
      ]
     },
     "execution_count": 26,
     "metadata": {},
     "output_type": "execute_result"
    }
   ],
   "source": [
    "# How does the model perform on the entire dataset and default model parameters\n",
    "reg = Ridge().fit(df_train.iloc[:, :-1], df_train.target)\n",
    "all_df_score = reg.score(df_train.iloc[:, :-1], df_train.target)\n",
    "all_df_score"
   ]
  },
  {
   "cell_type": "code",
   "execution_count": 27,
   "id": "8309ea8a-1182-4372-a626-ea8fd453d7ed",
   "metadata": {
    "tags": []
   },
   "outputs": [
    {
     "data": {
      "text/plain": [
       "0.346337688543075"
      ]
     },
     "execution_count": 27,
     "metadata": {},
     "output_type": "execute_result"
    }
   ],
   "source": [
    "# How does the model perform on the training dataset and default model parameters\n",
    "# Remember we use the validation dataset score the model\n",
    "reg = Ridge().fit(df_val.iloc[:, :-1], df_val.target)\n",
    "val_df_score = reg.score(df_val.iloc[:, :-1], df_val.target)\n",
    "val_df_score"
   ]
  },
  {
   "cell_type": "code",
   "execution_count": 42,
   "id": "50e33dae-c383-4318-88ac-3a6a6e7d0a99",
   "metadata": {},
   "outputs": [
    {
     "data": {
      "text/plain": [
       "0.5105381140895364"
      ]
     },
     "execution_count": 42,
     "metadata": {},
     "output_type": "execute_result"
    }
   ],
   "source": [
    "# How does the model perform on the training dataset and different model parameters\n",
    "# Change alpha, solver, and max_iter\n",
    "reg_h = Ridge(alpha=.1).fit(df_train.iloc[:, :-1], df_train.target)\n",
    "val_df_h_score = reg_h.score(df_train.iloc[:, :-1], df_train.target)\n",
    "val_df_h_score"
   ]
  },
  {
   "cell_type": "code",
   "execution_count": 43,
   "id": "3b56cc90-dc6d-4a01-8560-f76585e084e4",
   "metadata": {},
   "outputs": [
    {
     "data": {
      "text/plain": [
       "0.4558372211271511"
      ]
     },
     "execution_count": 43,
     "metadata": {},
     "output_type": "execute_result"
    }
   ],
   "source": [
    "# Use optimized model on the held out test dataset.\n",
    "test_df_h_score = reg_h.score(df_test.iloc[:, :-1], df_test.target)\n",
    "test_df_h_score"
   ]
  },
  {
   "cell_type": "code",
   "execution_count": 44,
   "id": "8197a78f-a92d-46e5-ad03-39849ccd908e",
   "metadata": {},
   "outputs": [
    {
     "data": {
      "text/plain": [
       "0.4055583268258721"
      ]
     },
     "execution_count": 44,
     "metadata": {},
     "output_type": "execute_result"
    }
   ],
   "source": [
    "all_df_score"
   ]
  },
  {
   "cell_type": "code",
   "execution_count": 47,
   "id": "5f63d361-184f-412a-9711-0e8f27d11039",
   "metadata": {},
   "outputs": [
    {
     "data": {
      "image/png": "[encoded data removed]",
      "text/plain": [
       "<Figure size 640x480 with 1 Axes>"
      ]
     },
     "metadata": {},
     "output_type": "display_data"
    }
   ],
   "source": [
    "# Bar plot of all scores from each model fit: all_df_score, val_df_score, val_df_h_score, test_df_h_score\n",
    "_=pd.Series([all_df_score, val_df_score, val_df_h_score, test_df_h_score]).plot(kind=\"bar\", legend=False, title=\"R2 Score of Ridge Model\")"
   ]
  },
  {
   "cell_type": "markdown",
   "id": "7daff9c7-d1c9-4a33-90c9-e0635aa70e4d",
   "metadata": {},
   "source": [
    "# END OF NOTEBOOK"
   ]
  }
 ],
 "metadata": {
  "kernelspec": {
   "display_name": "Python 3 (ipykernel)",
   "language": "python",
   "name": "python3"
  },
  "language_info": {
   "codemirror_mode": {
    "name": "ipython",
    "version": 3
   },
   "file_extension": ".py",
   "mimetype": "text/x-python",
   "name": "python",
   "nbconvert_exporter": "python",
   "pygments_lexer": "ipython3",
   "version": "3.11.5"
  }
 },
 "nbformat": 4,
 "nbformat_minor": 5
}
