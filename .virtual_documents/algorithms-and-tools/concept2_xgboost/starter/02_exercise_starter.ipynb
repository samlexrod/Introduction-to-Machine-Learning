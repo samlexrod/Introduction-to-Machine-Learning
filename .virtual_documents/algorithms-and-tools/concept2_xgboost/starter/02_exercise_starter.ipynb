











# xgboost is not preinstalled so we'll need to install it manually
!pip install xgboost


import numpy as np
import pandas as pd
from sklearn import datasets
from sklearn.metrics import r2_score, accuracy_score
from sklearn.model_selection import train_test_split
import xgboost as xgb





# Load in the wine dataset
wine = ?


# Create the wine `data` dataset as a dataframe and name the columns with `feature_names`
df = pd.DataFrame(?, columns=?)

# Include the target as well
df['target'] = ?


# Split your data with these ratios: train: 0.8 | test: 0.2
df_train, df_test = ?


# Load your train/test dataframe into DMatrix
dtrain = xgb.DMatrix(?)
dtest = xgb.DMatrix(?)


# How does the model perform on the training dataset and default model parameters?
# Using the hyperparameters in the requirements, is there improvement?
# Remember we use the test dataset to score the model
param = {?}
?
bst = xgb.train(?)


# xgboost is not scikit learn, so you'll need to do predictions using their API
preds = ?


# Accuracy score using scikit learn function for classification metric
accuracy_score(?)


# Plot the importance of the features based on fitted trees
xgb.?





# Load in the diabetes dataset
diabetes = ?


# Create the diabetes `data` dataset as a dataframe and name the columns with `feature_names`
dfd = pd.DataFrame(?, columns=?)

# Include the target as well
dfd['target'] = ?


# Split your data with these ratios: train: 0.8 | test: 0.2
dfd_train, dfd_test = ?


# Load your train/test dataframe into DMatrix
dtrain = xgb.DMatrix(?)
dtest = xgb.DMatrix(?)


# How does the model perform on the training dataset and default model parameters?
# Using the hyperparameters in the requirements, is there improvement?
# Remember we use the test dataset to score the model
param = {?}
?
bst = xgb.train(?)


# xgboost is not scikit learn, so you'll need to do predictions using their API
preds = ?


# R2 score using scikit learn function for regression metric
r2_score(?)


# Plot the importance of the features based on fitted trees
xgb.?
