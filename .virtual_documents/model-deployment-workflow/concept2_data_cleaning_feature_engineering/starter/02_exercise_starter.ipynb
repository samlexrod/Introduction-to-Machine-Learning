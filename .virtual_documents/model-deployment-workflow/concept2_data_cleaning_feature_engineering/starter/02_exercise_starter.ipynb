


import random
from datetime import datetime
import pandas as pd
import numpy as np

from sklearn.datasets import make_regression
from sklearn.model_selection import train_test_split
from sklearn.preprocessing import StandardScaler


# Reading the dataset created by 02_exercise_dataset_creation.ipynb
df = pd.read_csv("data.csv")


# Always good to check to see if the data looks right
df.head()


# Output general info about the table, notice we have some null values in all of our features
?


# Drop all null values
?


# Change the date column to a datetime
df.loc[:, 'date'] = ?
# Change weather column to a category
df.loc[:, 'weather'] = ?


# Extract year, month, and day into separate columns
df['year'] = ?
df['month'] = ?
df['day'] = ?


# One hot encode the weather category to have individual features. Prefix with `weather`
weather_one_hot_df = ?


# Add the one hot encoded values back to the df
df[weather_one_hot_df.columns.to_list()] = weather_one_hot_df


# Verify now that are table info has no nulls and correct Dtypes
?


# These may change if you decided to call your columns different from above
all_features = [
    "feature0",
    "feature1",
    "feature2",
    "year",
    "month",
    "day",
    "weather_cloudy",
    "weather_rainy",
    "weather_sunny",
]


# Table summary, notice the mean to many of our tables are not zero.
?


# Standarize feature values to have a zero mean
scaler = StandardScaler()
scaler.fit(?)
df.loc[:, all_features] = ?


# Verify our features we are using now all have zero mean
?


# train: 0.8 | test: 0.2
df_train, df_test = train_test_split(df, test_size=0.2, random_state=0)

# train: 0.6 | validation: 0.2
df_train, df_val = train_test_split(df_train, test_size=0.25, random_state=0)

# Final dataset sizes: train: 0.6, validation: 0.2, text: 0.2,


# Output each shape to confirm the size of train/validation/test
print(f"Train: {df_train.shape}")
print(f"Validation: {df_val.shape}")
print(f"Test: {df_test.shape}")


# Save all clean data, and the train, validation, test data as csv
df.?
df_train.?
df_val.?
df_test.?
