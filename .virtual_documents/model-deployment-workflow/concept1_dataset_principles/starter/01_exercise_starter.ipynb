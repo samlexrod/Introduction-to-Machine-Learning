


import pandas as pd
from sklearn.datasets import make_regression
from sklearn.model_selection import train_test_split


# Creating a regression dataset with 1000 samples, 5 feature columns, 2 which are actually useful, and 1 target column
regression_dataset = make_regression(
    n_samples=1000, n_features=5, n_informative=2, n_targets=1, random_state=0
)


df = pd.DataFrame(regression_dataset[0])
df["target"] = regression_dataset[1]


df.head()


# Create a train: 0.8 | test: 0.2 ratio dataset
df_train, df_test = train_test_split(df, test_size=.2, random_state=42)

# Create a train: 0.6 | validation: 0.2 ratio dataset
df_train, df_val = train_test_split(df_train, test_size=.25, random_state=42)

# Final dataset sizes: train: 0.6, validation: 0.2, test: 0.2,


# Output each shape to confirm the size of train/validation/test
print(f"Train: {df_train.shape}")
print(f"Validation: {df_val.shape}")
print(f"Test: {df_test.shape}")


# Output all datasets to csv
df_train.to_csv("train.csv")
df_val.to_csv("val.csv")
df_test.to_csv("test.csv")



