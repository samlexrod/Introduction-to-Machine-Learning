


import numpy as np
import pandas as pd
import sklearn
from sklearn import datasets


# Load in the iris dataset
iris = datasets.?


# Create the iris `data` dataset as a dataframe and name the columns with `feature_names`
df = pd.DataFrame(?, columns=?)

# Include the target as well
df['target'] = ?


# Check your dataframe by `.head()`
?





from sklearn.linear_model import LinearRegression


# Fit a standard regression model, we've done this in other exercises
reg = ?


# Score the model on the same dataset
reg.score(?)


# Predicting values shows they are not that useful to a classification model
reg.predict(?)


# If we really wanted to, we could do something like round each regression value to an int
# and have it "act" like a classification model
# This is not required, but something to keep in mind for future reference
reg_cls = np.abs(np.rint(reg.predict(df[iris["feature_names"]])))
reg_cls


# Evaluate accuracy
sum(reg_cls == df["target"]) / df.shape[0]





from sklearn.linear_model import RidgeClassifier


# Fit a ridge classifier, which matches with the problem space of being a classification problem
clf = RidgeClassifier(?).fit(?)


# Score the model
clf.score(?)


# Predict the class values for the dataset, these will look much better!
clf.predict(?)
