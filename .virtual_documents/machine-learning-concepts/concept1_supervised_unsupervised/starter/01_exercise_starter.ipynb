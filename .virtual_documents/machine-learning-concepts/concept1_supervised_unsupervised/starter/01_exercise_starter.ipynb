


import numpy as np
import pandas as pd
import sklearn
from sklearn import datasets


# Load in the iris dataset
iris = datasets.load_iris()





# Create the iris `data` dataset as a dataframe and name the columns with `feature_names`
df = pd.DataFrame(iris.data, columns=iris)

# Include the target as well
df['target'] = ?


# Check your dataframe by `.head()`
?


# Target values as an array to compare against supervised and unsupervised
df["target"].to_numpy()





from sklearn.linear_model import LinearRegression


# initialize and fit a linear regression model
reg = LinearRegression().fit(?)


# Scoring of the linear regression model, but slighly deceiving since the iris dataset is classifying not regression
reg.score(?)


# regression output floating point numbers
reg.predict(?)





from sklearn.cluster import KMeans


# We already know the number of clusters, we can use during fit, hint: it's the number of classes
kmeans = KMeans(?)


# Print the labels to see what value is in what cluster
?


# What happens if we cluster more than the actual classes?
kmeans = KMeans(n_clusters=4, random_state=0).fit(?)


# Print the labels to see what value is in what cluster
?
